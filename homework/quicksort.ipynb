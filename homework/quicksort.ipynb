{
 "cells": [
  {
   "cell_type": "markdown",
   "metadata": {},
   "source": [
    "想法：由數列第一個數作為標準，比她小的數字往左邊丟大的往右邊，再各自重複分類"
   ]
  },
  {
   "cell_type": "code",
   "execution_count": 2,
   "metadata": {},
   "outputs": [],
   "source": [
    "def quicksort(x):\n",
    "  if len(x) < 2: #這個很重要，原先沒這個if卡住很久\n",
    "      return x\n",
    "  else:\n",
    "      pivot = x[0]  \n",
    "      less = [i for i in x[1:] if i < pivot] \n",
    "      more = [i for i in x[1:] if i >= pivot]     \n",
    "      return quicksort(less) + [pivot] + quicksort(more) #quicksort函式會一直重複跑上列程式碼，直到len(x)<2"
   ]
  },
  {
   "cell_type": "markdown",
   "metadata": {},
   "source": [
    "再丟任意數列k"
   ]
  },
  {
   "cell_type": "code",
   "execution_count": 3,
   "metadata": {},
   "outputs": [],
   "source": [
    "x=[42,545,3,45,3,2,1,45,63,25,65,23,67,5,40]"
   ]
  },
  {
   "cell_type": "code",
   "execution_count": 4,
   "metadata": {},
   "outputs": [
    {
     "name": "stdout",
     "output_type": "stream",
     "text": [
      "[1, 2, 3, 3, 5, 23, 25, 40, 42, 45, 45, 63, 65, 67, 545]\n"
     ]
    }
   ],
   "source": [
    "print(quicksort(x))#print出答案"
   ]
  },
  {
   "cell_type": "code",
   "execution_count": null,
   "metadata": {},
   "outputs": [],
   "source": []
  }
 ],
 "metadata": {
  "kernelspec": {
   "display_name": "Python 3",
   "language": "python",
   "name": "python3"
  },
  "language_info": {
   "codemirror_mode": {
    "name": "ipython",
    "version": 3
   },
   "file_extension": ".py",
   "mimetype": "text/x-python",
   "name": "python",
   "nbconvert_exporter": "python",
   "pygments_lexer": "ipython3",
   "version": "3.6.4"
  }
 },
 "nbformat": 4,
 "nbformat_minor": 2
}
